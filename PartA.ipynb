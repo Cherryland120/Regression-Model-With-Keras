{
 "cells": [
  {
   "cell_type": "markdown",
   "id": "3c781826-4685-42bf-bcfc-fa9343c3da38",
   "metadata": {},
   "source": [
    "This is the importation part of the code"
   ]
  },
  {
   "cell_type": "code",
   "execution_count": 1,
   "id": "61ba1ca9-e00e-4668-b178-eb53e0dea3a5",
   "metadata": {},
   "outputs": [],
   "source": [
    "import pandas as pd\n",
    "import numpy as np\n",
    "import tensorflow\n",
    "import warnings\n",
    "warnings.simplefilter('ignore', FutureWarning)\n",
    "import keras\n",
    "from keras.models import Sequential\n",
    "from keras.layers import Dense\n",
    "from sklearn.model_selection import train_test_split\n",
    "from sklearn.metrics import mean_squared_error, r2_score\n"
   ]
  },
  {
   "cell_type": "markdown",
   "id": "14d8b18b-a292-4961-9fb1-74a404870ba5",
   "metadata": {},
   "source": [
    "Here, I deal with importation of the data"
   ]
  },
  {
   "cell_type": "code",
   "execution_count": 2,
   "id": "a02dad04-194d-480f-924f-9b6fd9759c6d",
   "metadata": {},
   "outputs": [],
   "source": [
    "concrete_data = pd.read_csv(r\"C:\\Users\\ANOINTINGTAMUNOWUNAR\\Downloads\\concrete_data.csv\")\n",
    "concrete_data.describe()\n",
    "concrete_data.isnull().sum()\n",
    "\n",
    "concrete_data_columns = concrete_data.columns\n",
    "\n",
    "predictors = concrete_data[concrete_data_columns[concrete_data_columns != 'Strength']] # all columns except Strength\n",
    "target = concrete_data['Strength'] # Strength column\n"
   ]
  },
  {
   "cell_type": "markdown",
   "id": "25a35988-06a2-47d2-b85e-ec7391f6458e",
   "metadata": {},
   "source": [
    "A small sample of our dataset is shown with head"
   ]
  },
  {
   "cell_type": "code",
   "execution_count": 3,
   "id": "d5e4f05c-c022-4b63-9ea8-0f2a38c8e5bc",
   "metadata": {},
   "outputs": [
    {
     "data": {
      "text/plain": [
       "0    79.99\n",
       "1    61.89\n",
       "2    40.27\n",
       "3    41.05\n",
       "4    44.30\n",
       "Name: Strength, dtype: float64"
      ]
     },
     "execution_count": 3,
     "metadata": {},
     "output_type": "execute_result"
    }
   ],
   "source": [
    "predictors.head()\n",
    "target.head()\n",
    "\n",
    "#predictors_norm = (predictors - predictors.mean()) / predictors.std()\n",
    "#predictors_norm.head()\n",
    "\n",
    "\n"
   ]
  },
  {
   "cell_type": "markdown",
   "id": "821f4bc5-f641-4120-b82b-308639bf4fa0",
   "metadata": {},
   "source": [
    "This part shows the model being built"
   ]
  },
  {
   "cell_type": "code",
   "execution_count": 4,
   "id": "87d0cb36-7047-49fd-a8e0-85f3b0beb9ec",
   "metadata": {},
   "outputs": [],
   "source": [
    "model = Sequential()\n",
    "#n_cols = predictors_norm.shape[1] # number of predictors\n",
    "n_cols = predictors.shape[1] # number of predictors\n",
    "\n",
    "model.add(Dense(10, activation = 'relu', input_shape = (n_cols, )))\n",
    "model.add(Dense(1))\n",
    "\n",
    "model.compile(optimizer = 'adam', loss = 'mean_squared_error')\n",
    "\n",
    "#model.fit(predictors, target) Normally this is the code\n",
    "\n"
   ]
  },
  {
   "cell_type": "code",
   "execution_count": 6,
   "id": "7b9f4941-0b0f-4d30-b6c6-4de7d44a797a",
   "metadata": {},
   "outputs": [
    {
     "name": "stdout",
     "output_type": "stream",
     "text": [
      "10/10 [==============================] - 0s 2ms/step\n",
      "10/10 [==============================] - 0s 2ms/step\n",
      "10/10 [==============================] - 0s 2ms/step\n",
      "10/10 [==============================] - 0s 2ms/step\n",
      "10/10 [==============================] - 0s 2ms/step\n",
      "10/10 [==============================] - 0s 2ms/step\n",
      "10/10 [==============================] - 0s 2ms/step\n",
      "10/10 [==============================] - 0s 2ms/step\n",
      "10/10 [==============================] - 0s 2ms/step\n",
      "10/10 [==============================] - 0s 2ms/step\n",
      "10/10 [==============================] - 0s 2ms/step\n",
      "10/10 [==============================] - 0s 2ms/step\n",
      "10/10 [==============================] - 0s 2ms/step\n",
      "10/10 [==============================] - 0s 2ms/step\n",
      "10/10 [==============================] - 0s 2ms/step\n",
      "10/10 [==============================] - 0s 2ms/step\n",
      "10/10 [==============================] - 0s 2ms/step\n",
      "10/10 [==============================] - 0s 2ms/step\n",
      "10/10 [==============================] - 0s 2ms/step\n",
      "10/10 [==============================] - 0s 2ms/step\n",
      "10/10 [==============================] - 0s 3ms/step\n",
      "10/10 [==============================] - 0s 2ms/step\n",
      "10/10 [==============================] - 0s 2ms/step\n",
      "10/10 [==============================] - 0s 2ms/step\n",
      "10/10 [==============================] - 0s 2ms/step\n",
      "10/10 [==============================] - 0s 3ms/step\n",
      "10/10 [==============================] - 0s 2ms/step\n",
      "10/10 [==============================] - 0s 2ms/step\n",
      "10/10 [==============================] - 0s 2ms/step\n",
      "10/10 [==============================] - 0s 2ms/step\n",
      "10/10 [==============================] - 0s 2ms/step\n",
      "10/10 [==============================] - 0s 2ms/step\n",
      "10/10 [==============================] - 0s 2ms/step\n",
      "10/10 [==============================] - 0s 2ms/step\n",
      "10/10 [==============================] - 0s 3ms/step\n",
      "10/10 [==============================] - 0s 2ms/step\n",
      "10/10 [==============================] - 0s 2ms/step\n",
      "10/10 [==============================] - 0s 2ms/step\n",
      "10/10 [==============================] - 0s 2ms/step\n",
      "10/10 [==============================] - 0s 2ms/step\n",
      "10/10 [==============================] - 0s 2ms/step\n",
      "10/10 [==============================] - 0s 3ms/step\n",
      "10/10 [==============================] - 0s 2ms/step\n",
      "10/10 [==============================] - 0s 6ms/step\n",
      "10/10 [==============================] - 0s 3ms/step\n",
      "10/10 [==============================] - 0s 3ms/step\n",
      "10/10 [==============================] - 0s 3ms/step\n",
      "10/10 [==============================] - 0s 2ms/step\n",
      "10/10 [==============================] - 0s 2ms/step\n",
      "10/10 [==============================] - 0s 2ms/step\n"
     ]
    }
   ],
   "source": [
    "# Initialize a list to store MSE values\n",
    "mse_list = []\n",
    "\n",
    "# Repeat the process 50 times\n",
    "for i in range(50):\n",
    "    # Split the data into training and testing sets (70% train, 30% test)\n",
    "    X_train, X_test, y_train, y_test = train_test_split(predictors, target, test_size=0.3, random_state=i)\n",
    "    \n",
    "    # Fit the model (training for 50 epochs)\n",
    "    model.fit(X_train, y_train, validation_data=(X_test, y_test), epochs=50, verbose=0)\n",
    "    \n",
    "    # Make predictions on the test data\n",
    "    predictions = model.predict(X_test)\n",
    "\n",
    "    # Calculate R-squared score\n",
    "    r2 = r2_score(y_test, predictions)\n",
    "    \n",
    "    # Compute the Mean Squared Error for this iteration\n",
    "    mse = mean_squared_error(y_test, predictions)\n",
    "    mse_list.append(mse)"
   ]
  },
  {
   "cell_type": "code",
   "execution_count": 7,
   "id": "397df027-d3ec-4f8b-9c26-6c6debe4c959",
   "metadata": {},
   "outputs": [
    {
     "name": "stdout",
     "output_type": "stream",
     "text": [
      "Mean Squared Error (Mean): 117.06751027562227\n",
      "Mean Squared Error (Standard Deviation): 12.351516128261785\n",
      "Mean Squared Error: 118.07624286764485\n",
      "R-squared: 0.5687274667560962\n"
     ]
    }
   ],
   "source": [
    "# Calculate the mean and standard deviation of the MSEs\n",
    "mean_mse = np.mean(mse_list)\n",
    "std_mse = np.std(mse_list)\n",
    "\n",
    "print(f\"Mean Squared Error (Mean): {mean_mse}\")\n",
    "print(f\"Mean Squared Error (Standard Deviation): {std_mse}\")\n",
    "\n",
    "\n",
    "print(\"Mean Squared Error:\", mse)\n",
    "print(\"R-squared:\", r2)"
   ]
  }
 ],
 "metadata": {
  "kernelspec": {
   "display_name": "Python 3.9 (myenv)",
   "language": "python",
   "name": "myenv"
  },
  "language_info": {
   "codemirror_mode": {
    "name": "ipython",
    "version": 3
   },
   "file_extension": ".py",
   "mimetype": "text/x-python",
   "name": "python",
   "nbconvert_exporter": "python",
   "pygments_lexer": "ipython3",
   "version": "3.9.19"
  }
 },
 "nbformat": 4,
 "nbformat_minor": 5
}
